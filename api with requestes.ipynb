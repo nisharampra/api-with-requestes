{
 "cells": [
  {
   "cell_type": "markdown",
   "id": "cfc5db9c",
   "metadata": {},
   "source": [
    "# pulling data from public apis -get request"
   ]
  },
  {
   "cell_type": "code",
   "execution_count": 12,
   "id": "16f16905",
   "metadata": {},
   "outputs": [],
   "source": [
    "base_url=\"https://api.exchangeratesapi.io/v1/latest\""
   ]
  },
  {
   "cell_type": "code",
   "execution_count": null,
   "id": "698af499",
   "metadata": {},
   "outputs": [],
   "source": []
  },
  {
   "cell_type": "markdown",
   "id": "47afd1fb",
   "metadata": {},
   "source": [
    "# extracting data on currency exchange rates"
   ]
  },
  {
   "cell_type": "markdown",
   "id": "8b6b9166",
   "metadata": {},
   "source": [
    "# sending a get requests"
   ]
  },
  {
   "cell_type": "code",
   "execution_count": 13,
   "id": "faa6e030",
   "metadata": {},
   "outputs": [],
   "source": [
    "import requests"
   ]
  },
  {
   "cell_type": "code",
   "execution_count": 14,
   "id": "66eb3f0c",
   "metadata": {},
   "outputs": [],
   "source": [
    "response=requests.get(base_url)"
   ]
  },
  {
   "cell_type": "markdown",
   "id": "7b89f8b8",
   "metadata": {},
   "source": [
    "# investigate the response"
   ]
  },
  {
   "cell_type": "code",
   "execution_count": 15,
   "id": "9ec54a5d",
   "metadata": {},
   "outputs": [
    {
     "data": {
      "text/plain": [
       "False"
      ]
     },
     "execution_count": 15,
     "metadata": {},
     "output_type": "execute_result"
    }
   ],
   "source": [
    "response.ok"
   ]
  },
  {
   "cell_type": "code",
   "execution_count": null,
   "id": "9d630cd4",
   "metadata": {},
   "outputs": [],
   "source": []
  }
 ],
 "metadata": {
  "kernelspec": {
   "display_name": "Python 3 (ipykernel)",
   "language": "python",
   "name": "python3"
  },
  "language_info": {
   "codemirror_mode": {
    "name": "ipython",
    "version": 3
   },
   "file_extension": ".py",
   "mimetype": "text/x-python",
   "name": "python",
   "nbconvert_exporter": "python",
   "pygments_lexer": "ipython3",
   "version": "3.11.5"
  }
 },
 "nbformat": 4,
 "nbformat_minor": 5
}
